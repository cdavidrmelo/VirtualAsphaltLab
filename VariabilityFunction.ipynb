{
 "cells": [
  {
   "cell_type": "markdown",
   "id": "6f328d26-f4f6-49b6-b2df-a0b58b13e240",
   "metadata": {},
   "source": [
    "# Bibliotecas"
   ]
  },
  {
   "cell_type": "code",
   "execution_count": 1,
   "id": "05fdb951-2c3c-4e14-90a4-b2d604a91ea6",
   "metadata": {},
   "outputs": [],
   "source": [
    "import numpy as np\n",
    "import matplotlib.pyplot as plt"
   ]
  },
  {
   "cell_type": "markdown",
   "id": "8f5d29c4-88f3-4699-9a8b-da7e20cc05ef",
   "metadata": {},
   "source": [
    "# Dados de entrada"
   ]
  },
  {
   "cell_type": "code",
   "execution_count": 2,
   "id": "c1abcca0-7d4b-4d3a-8ab8-131db9bacf47",
   "metadata": {},
   "outputs": [],
   "source": [
    "comprimento = 100                  \n",
    "altura_total = 55/100                 \n",
    "espessura_sub_base = 30/100           \n",
    "espessura_base = 20/100               \n",
    "espessura_revestimento = 5/100        \n",
    "variacao_sub_base = 5/1000 \n",
    "variacao_base = 3/1000  \n",
    "modulo_revestimento_medio = 4500  \n",
    "modulo_base_medio = 250           \n",
    "modulo_sub_base_medio = 150       \n",
    "IRI_medio = 2.5 "
   ]
  },
  {
   "cell_type": "markdown",
   "id": "a60b61c4-c30a-4ba9-a0b3-d96faea3530b",
   "metadata": {},
   "source": [
    "# Função"
   ]
  },
  {
   "cell_type": "code",
   "execution_count": 3,
   "id": "e4b0185d-dd3c-49e1-a5d0-8a6ea406145c",
   "metadata": {},
   "outputs": [],
   "source": [
    "x = np.linspace (0, comprimento, 50)\n",
    "cont = 0 "
   ]
  },
  {
   "cell_type": "code",
   "execution_count": 4,
   "id": "d27fffb1-9bfe-4767-99f6-3b3c9f1e5a91",
   "metadata": {},
   "outputs": [],
   "source": [
    "def plt_graph (sb_variation, b_variation): #sub_base_variation ; base_variation\n",
    "    topo_revestimento = 0\n",
    "    topo_base = topo_revestimento - espessura_revestimento - base_variation\n",
    "    topo_sub_base = topo_base - espessura_base - sub_base_variation\n",
    "    base_subleito = -altura_total\n",
    "\n",
    "    plt.figure(figsize=(12, 6))\n",
    "\n",
    "    #Criando as camadas\n",
    "    revestimento_fill = plt.fill_between(x, topo_revestimento, topo_base, \n",
    "                                        color='black', \n",
    "                                        alpha=0.8, \n",
    "                                        label='Revestimento (Asfalto)')\n",
    "\n",
    "    base_fill = plt.fill_between(x, topo_base, topo_sub_base, \n",
    "                                color='#8B4513', \n",
    "                                alpha=0.7, \n",
    "                                label='Base (Sienna)')\n",
    "\n",
    "    sub_base_fill = plt.fill_between(x, topo_sub_base, base_subleito, \n",
    "                                    color='#DAA520', \n",
    "                                    alpha=0.7, \n",
    "                                    label='Sub-Base (Terra Cota)')\n",
    "\n",
    "    plt.xlabel('Comprimento do Pavimento (m)')\n",
    "    plt.ylabel('Profundidade (m)')\n",
    "    plt.title('Pavimento Asfáltico Virtual')\n",
    "\n",
    "\n",
    "\n",
    "    plt.legend(handles=[revestimento_fill, base_fill, sub_base_fill], \n",
    "            bbox_to_anchor=(1.05, 1), \n",
    "            loc='upper left', \n",
    "            borderaxespad=0.)\n",
    "\n",
    "    plt.grid(True)\n",
    "    plt.tight_layout(rect=[0, 0, 0.85, 1])\n",
    "    plt.show()\n",
    "    variability_function(x)"
   ]
  },
  {
   "cell_type": "code",
   "execution_count": 5,
   "id": "3f8ac96a-170c-4e8e-987e-ab49a2d2f7f6",
   "metadata": {},
   "outputs": [
    {
     "ename": "NameError",
     "evalue": "name 'base_variation' is not defined",
     "output_type": "error",
     "traceback": [
      "\u001b[1;31m---------------------------------------------------------------------------\u001b[0m",
      "\u001b[1;31mNameError\u001b[0m                                 Traceback (most recent call last)",
      "Cell \u001b[1;32mIn[5], line 18\u001b[0m\n\u001b[0;32m     12\u001b[0m         plt_graph (sub_base_variation, base_variation)\n\u001b[0;32m     13\u001b[0m     \u001b[38;5;66;03m#if (cont == 3)\u001b[39;00m\n\u001b[0;32m     14\u001b[0m         \u001b[38;5;66;03m#sub_base_variation = variacao_sub_base * np.sin(2 * np.pi * x / comprimento)\u001b[39;00m\n\u001b[0;32m     15\u001b[0m         \u001b[38;5;66;03m#base_variation = variacao_base * np.sin(2 * np.pi * x / (comprimento / 2))\u001b[39;00m\n\u001b[0;32m     16\u001b[0m         \u001b[38;5;66;03m#plt_graph (sub_base_variation, base_variation)\u001b[39;00m\n\u001b[1;32m---> 18\u001b[0m variability_function(\u001b[38;5;241m50\u001b[39m)\n",
      "Cell \u001b[1;32mIn[5], line 7\u001b[0m, in \u001b[0;36mvariability_function\u001b[1;34m(x)\u001b[0m\n\u001b[0;32m      5\u001b[0m     sub_base_variation \u001b[38;5;241m=\u001b[39m variacao_sub_base \u001b[38;5;241m*\u001b[39m np\u001b[38;5;241m.\u001b[39msin(\u001b[38;5;241m2\u001b[39m \u001b[38;5;241m*\u001b[39m np\u001b[38;5;241m.\u001b[39mpi \u001b[38;5;241m*\u001b[39m x \u001b[38;5;241m/\u001b[39m comprimento)\n\u001b[0;32m      6\u001b[0m     base_variation \u001b[38;5;241m=\u001b[39m variacao_base \u001b[38;5;241m*\u001b[39m np\u001b[38;5;241m.\u001b[39msin(\u001b[38;5;241m2\u001b[39m \u001b[38;5;241m*\u001b[39m np\u001b[38;5;241m.\u001b[39mpi \u001b[38;5;241m*\u001b[39m x \u001b[38;5;241m/\u001b[39m (comprimento \u001b[38;5;241m/\u001b[39m \u001b[38;5;241m2\u001b[39m))\n\u001b[1;32m----> 7\u001b[0m     plt_graph (sub_base_variation, base_variation)\n\u001b[0;32m      9\u001b[0m \u001b[38;5;28;01mif\u001b[39;00m (cont \u001b[38;5;241m==\u001b[39m \u001b[38;5;241m2\u001b[39m):\n\u001b[0;32m     10\u001b[0m     sub_base_variation \u001b[38;5;241m=\u001b[39m variacao_sub_base \u001b[38;5;241m*\u001b[39m np\u001b[38;5;241m.\u001b[39mcos(\u001b[38;5;241m2\u001b[39m \u001b[38;5;241m*\u001b[39m np\u001b[38;5;241m.\u001b[39mpi \u001b[38;5;241m*\u001b[39m x \u001b[38;5;241m/\u001b[39m comprimento)\n",
      "Cell \u001b[1;32mIn[4], line 3\u001b[0m, in \u001b[0;36mplt_graph\u001b[1;34m(sb_variation, b_variation)\u001b[0m\n\u001b[0;32m      1\u001b[0m \u001b[38;5;28;01mdef\u001b[39;00m \u001b[38;5;21mplt_graph\u001b[39m (sb_variation, b_variation): \u001b[38;5;66;03m#sub_base_variation ; base_variation\u001b[39;00m\n\u001b[0;32m      2\u001b[0m     topo_revestimento \u001b[38;5;241m=\u001b[39m \u001b[38;5;241m0\u001b[39m\n\u001b[1;32m----> 3\u001b[0m     topo_base \u001b[38;5;241m=\u001b[39m topo_revestimento \u001b[38;5;241m-\u001b[39m espessura_revestimento \u001b[38;5;241m-\u001b[39m base_variation\n\u001b[0;32m      4\u001b[0m     topo_sub_base \u001b[38;5;241m=\u001b[39m topo_base \u001b[38;5;241m-\u001b[39m espessura_base \u001b[38;5;241m-\u001b[39m sub_base_variation\n\u001b[0;32m      5\u001b[0m     base_subleito \u001b[38;5;241m=\u001b[39m \u001b[38;5;241m-\u001b[39maltura_total\n",
      "\u001b[1;31mNameError\u001b[0m: name 'base_variation' is not defined"
     ]
    }
   ],
   "source": [
    "def variability_function (x):\n",
    "    cont = 0\n",
    "    cont = cont + 1 \n",
    "    if (cont == 1):\n",
    "        sub_base_variation = variacao_sub_base * np.sin(2 * np.pi * x / comprimento)\n",
    "        base_variation = variacao_base * np.sin(2 * np.pi * x / (comprimento / 2))\n",
    "        plt_graph (sub_base_variation, base_variation)\n",
    "        \n",
    "    if (cont == 2):\n",
    "        sub_base_variation = variacao_sub_base * np.cos(2 * np.pi * x / comprimento)\n",
    "        base_variation = variacao_base * np.cos(2 * np.pi * x / (comprimento / 2))\n",
    "        plt_graph (sub_base_variation, base_variation)\n",
    "    #if (cont == 3)\n",
    "        #sub_base_variation = variacao_sub_base * np.sin(2 * np.pi * x / comprimento)\n",
    "        #base_variation = variacao_base * np.sin(2 * np.pi * x / (comprimento / 2))\n",
    "        #plt_graph (sub_base_variation, base_variation)\n",
    "\n",
    "variability_function(50) \n",
    "\n",
    "    "
   ]
  },
  {
   "cell_type": "code",
   "execution_count": null,
   "id": "062934a2-145c-43f1-8acd-848ffdc6c527",
   "metadata": {},
   "outputs": [],
   "source": []
  },
  {
   "cell_type": "code",
   "execution_count": null,
   "id": "acbf9c76-1005-496f-8133-dfd0e26b8a16",
   "metadata": {},
   "outputs": [],
   "source": []
  },
  {
   "cell_type": "code",
   "execution_count": null,
   "id": "661c1469-d280-435a-8746-2aa494caf0b6",
   "metadata": {},
   "outputs": [],
   "source": []
  }
 ],
 "metadata": {
  "kernelspec": {
   "display_name": "Python 3 (ipykernel)",
   "language": "python",
   "name": "python3"
  },
  "language_info": {
   "codemirror_mode": {
    "name": "ipython",
    "version": 3
   },
   "file_extension": ".py",
   "mimetype": "text/x-python",
   "name": "python",
   "nbconvert_exporter": "python",
   "pygments_lexer": "ipython3",
   "version": "3.12.4"
  }
 },
 "nbformat": 4,
 "nbformat_minor": 5
}
